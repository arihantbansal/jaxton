{
  "cells": [
    {
      "cell_type": "markdown",
      "metadata": {
        "id": "J0KYoxP3eKnf",
        "papermill": {
          "duration": 0.015838,
          "end_time": "2022-02-04T05:32:28.988637",
          "exception": false,
          "start_time": "2022-02-04T05:32:28.972799",
          "status": "completed"
        },
        "tags": []
      },
      "source": [
        "<center>\n",
        "    <h1>JaxTon</h1>\n",
        "    <i>💯 JAX exercises</i>\n",
        "    <br>\n",
        "    <br>\n",
        "    <a href='https://github.com/vopani/jaxton/blob/master/LICENSE'>\n",
        "        <img src='https://img.shields.io/badge/license-Apache%202.0-blue.svg?logo=apache'>\n",
        "    </a>\n",
        "    <a href='https://github.com/vopani/jaxton'>\n",
        "        <img src='https://img.shields.io/github/stars/vopani/jaxton?color=yellowgreen&logo=github'>\n",
        "    </a>\n",
        "    <a href='https://twitter.com/vopani'>\n",
        "        <img src='https://img.shields.io/twitter/follow/vopani'>\n",
        "    </a>\n",
        "</center>"
      ]
    },
    {
      "cell_type": "markdown",
      "metadata": {
        "id": "colvKh_DeKns",
        "papermill": {
          "duration": 0.012769,
          "end_time": "2022-02-04T05:32:29.015298",
          "exception": false,
          "start_time": "2022-02-04T05:32:29.002529",
          "status": "completed"
        },
        "tags": []
      },
      "source": [
        "<center>\n",
        "    This is Set 2: Data Operations (Exercises 11-20) of <b>JaxTon</b>: <i>💯 JAX exercises</i>\n",
        "    <br>\n",
        "    You can find all the exercises and solutions on <a href=\"https://github.com/vopani/jaxton#exercises-\">GitHub</a>\n",
        "</center>"
      ]
    },
    {
      "cell_type": "markdown",
      "metadata": {
        "id": "UqPQvvPoeKnu",
        "papermill": {
          "duration": 0.012743,
          "end_time": "2022-02-04T05:32:29.041006",
          "exception": false,
          "start_time": "2022-02-04T05:32:29.028263",
          "status": "completed"
        },
        "tags": []
      },
      "source": [
        "**Prerequisites**\n",
        "\n",
        "* The configuration of jax should be set as shown in the code snippet below in order to use TPUs."
      ]
    },
    {
      "cell_type": "code",
      "execution_count": 1,
      "metadata": {
        "_kg_hide-input": true,
        "_kg_hide-output": true,
        "colab": {
          "base_uri": "https://localhost:8080/"
        },
        "execution": {
          "iopub.execute_input": "2022-02-07T06:16:08.169153Z",
          "iopub.status.busy": "2022-02-07T06:16:08.168786Z",
          "iopub.status.idle": "2022-02-07T06:16:17.854475Z",
          "shell.execute_reply": "2022-02-07T06:16:17.853547Z",
          "shell.execute_reply.started": "2022-02-07T06:16:08.169060Z"
        },
        "id": "hZsWV9OGeKnz",
        "outputId": "47fedd52-753b-4b25-e36f-414a828ff8e6",
        "papermill": {
          "duration": 8.902788,
          "end_time": "2022-02-04T05:32:37.956623",
          "exception": false,
          "start_time": "2022-02-04T05:32:29.053835",
          "status": "completed"
        },
        "tags": [],
        "trusted": true
      },
      "outputs": [
        {
          "name": "stdout",
          "output_type": "stream",
          "text": [
            "Requirement already satisfied: jax in /usr/local/lib/python3.7/dist-packages (0.2.25)\n",
            "Requirement already satisfied: numpy>=1.18 in /usr/local/lib/python3.7/dist-packages (from jax) (1.21.5)\n",
            "Requirement already satisfied: typing-extensions in /usr/local/lib/python3.7/dist-packages (from jax) (3.10.0.2)\n",
            "Requirement already satisfied: opt-einsum in /usr/local/lib/python3.7/dist-packages (from jax) (3.3.0)\n",
            "Requirement already satisfied: absl-py in /usr/local/lib/python3.7/dist-packages (from jax) (1.0.0)\n",
            "Requirement already satisfied: scipy>=1.2.1 in /usr/local/lib/python3.7/dist-packages (from jax) (1.4.1)\n",
            "Requirement already satisfied: six in /usr/local/lib/python3.7/dist-packages (from absl-py->jax) (1.15.0)\n"
          ]
        }
      ],
      "source": [
        "!python3 -m pip install jax"
      ]
    },
    {
      "cell_type": "code",
      "execution_count": 2,
      "metadata": {
        "_kg_hide-input": false,
        "colab": {
          "base_uri": "https://localhost:8080/"
        },
        "execution": {
          "iopub.execute_input": "2022-02-07T06:16:17.858441Z",
          "iopub.status.busy": "2022-02-07T06:16:17.858137Z",
          "iopub.status.idle": "2022-02-07T06:16:19.768539Z",
          "shell.execute_reply": "2022-02-07T06:16:19.767762Z",
          "shell.execute_reply.started": "2022-02-07T06:16:17.858408Z"
        },
        "id": "7pweeJFLeKoZ",
        "outputId": "9a8fd25b-cdfa-4e08-92c8-a8c2e9592694",
        "papermill": {
          "duration": 1.874154,
          "end_time": "2022-02-04T05:32:39.851424",
          "exception": false,
          "start_time": "2022-02-04T05:32:37.97727",
          "status": "completed"
        },
        "tags": [],
        "trusted": true
      },
      "outputs": [
        {
          "name": "stderr",
          "output_type": "stream",
          "text": [
            "WARNING:absl:No GPU/TPU found, falling back to CPU. (Set TF_CPP_MIN_LOG_LEVEL=0 and rerun for more info.)\n"
          ]
        },
        {
          "data": {
            "text/plain": [
              "[<jaxlib.xla_extension.Device at 0x7fc050f9e230>]"
            ]
          },
          "execution_count": 2,
          "metadata": {},
          "output_type": "execute_result"
        }
      ],
      "source": [
        "## import packages\n",
        "import jax\n",
        "import jax.numpy as jnp\n",
        "import os\n",
        "import requests\n",
        "\n",
        "## setup JAX to use TPUs if available\n",
        "try:\n",
        "    url = 'http:' + os.environ['TPU_NAME'].split(':')[1] + ':8475/requestversion/tpu_driver_nightly'\n",
        "    resp = requests.post(url)\n",
        "    jax.config.FLAGS.jax_xla_backend = 'tpu_driver'\n",
        "    jax.config.FLAGS.jax_backend_target = os.environ['TPU_NAME']\n",
        "except:\n",
        "    pass\n",
        "\n",
        "jax.devices()"
      ]
    },
    {
      "cell_type": "markdown",
      "metadata": {
        "id": "9meBbRdQeKoc",
        "papermill": {
          "duration": 0.013624,
          "end_time": "2022-02-04T05:32:39.878818",
          "exception": false,
          "start_time": "2022-02-04T05:32:39.865194",
          "status": "completed"
        },
        "tags": []
      },
      "source": [
        "**Exercise 11: Create a matrix with values [[10, 1, 24], [20, 15, 14]] and assign it to `data`**"
      ]
    },
    {
      "cell_type": "code",
      "execution_count": 3,
      "metadata": {
        "id": "kRsUEuwHeKof",
        "papermill": {
          "duration": 0.028225,
          "end_time": "2022-02-04T05:32:39.923002",
          "exception": false,
          "start_time": "2022-02-04T05:32:39.894777",
          "status": "completed"
        },
        "tags": [],
        "trusted": true
      },
      "outputs": [],
      "source": [
        "data = jnp.array([[10, 1, 24], [20, 15, 14]])"
      ]
    },
    {
      "cell_type": "markdown",
      "metadata": {
        "id": "8dt2cKkseKoj",
        "papermill": {
          "duration": 0.013743,
          "end_time": "2022-02-04T05:32:39.951264",
          "exception": false,
          "start_time": "2022-02-04T05:32:39.937521",
          "status": "completed"
        },
        "tags": []
      },
      "source": [
        "**Exercise 12: Assign the transpose of `data` to `dataT`**"
      ]
    },
    {
      "cell_type": "code",
      "execution_count": 4,
      "metadata": {
        "id": "q3GtyffmeKom",
        "papermill": {
          "duration": 0.25684,
          "end_time": "2022-02-04T05:32:40.222213",
          "exception": false,
          "start_time": "2022-02-04T05:32:39.965373",
          "status": "completed"
        },
        "tags": [],
        "trusted": true
      },
      "outputs": [],
      "source": [
        "dataT = data.T"
      ]
    },
    {
      "cell_type": "markdown",
      "metadata": {
        "id": "VecmnSXEeKon",
        "papermill": {
          "duration": 0.014461,
          "end_time": "2022-02-04T05:32:40.25141",
          "exception": false,
          "start_time": "2022-02-04T05:32:40.236949",
          "status": "completed"
        },
        "tags": []
      },
      "source": [
        "**Exercise 13: Assign the element of `data` at index [0, 2] to `value`**"
      ]
    },
    {
      "cell_type": "code",
      "execution_count": 5,
      "metadata": {
        "colab": {
          "base_uri": "https://localhost:8080/"
        },
        "id": "RacslCb9eKoo",
        "outputId": "cb8ba676-ff48-45e4-ed4d-f95426c4a4a2",
        "papermill": {
          "duration": 0.099289,
          "end_time": "2022-02-04T05:32:40.365523",
          "exception": false,
          "start_time": "2022-02-04T05:32:40.266234",
          "status": "completed"
        },
        "tags": [],
        "trusted": true
      },
      "outputs": [
        {
          "data": {
            "text/plain": [
              "DeviceArray(24, dtype=int32)"
            ]
          },
          "execution_count": 5,
          "metadata": {},
          "output_type": "execute_result"
        }
      ],
      "source": [
        "value = data[0, 2]\n",
        "value"
      ]
    },
    {
      "cell_type": "markdown",
      "metadata": {
        "id": "l9fZVCF0eKop",
        "papermill": {
          "duration": 0.014495,
          "end_time": "2022-02-04T05:32:40.395481",
          "exception": false,
          "start_time": "2022-02-04T05:32:40.380986",
          "status": "completed"
        },
        "tags": []
      },
      "source": [
        "**Exercise 14: Update the value of `data` at index [1, 1] to `100`**"
      ]
    },
    {
      "cell_type": "code",
      "execution_count": 6,
      "metadata": {
        "colab": {
          "base_uri": "https://localhost:8080/"
        },
        "id": "_Y5NOUbpeKov",
        "outputId": "b7dfbde5-f450-4b72-b566-7f2893c82e78",
        "papermill": {
          "duration": 0.070823,
          "end_time": "2022-02-04T05:32:40.480925",
          "exception": false,
          "start_time": "2022-02-04T05:32:40.410102",
          "status": "completed"
        },
        "tags": [],
        "trusted": true
      },
      "outputs": [
        {
          "data": {
            "text/plain": [
              "DeviceArray([[ 10,   1,  24],\n",
              "             [ 20, 100,  14]], dtype=int32)"
            ]
          },
          "execution_count": 6,
          "metadata": {},
          "output_type": "execute_result"
        }
      ],
      "source": [
        "data = data.at[1, 1].set(100)\n",
        "data"
      ]
    },
    {
      "cell_type": "markdown",
      "metadata": {
        "id": "J2KWy2BfeKow",
        "papermill": {
          "duration": 0.014636,
          "end_time": "2022-02-04T05:32:40.510737",
          "exception": false,
          "start_time": "2022-02-04T05:32:40.496101",
          "status": "completed"
        },
        "tags": []
      },
      "source": [
        "**Exercise 15: Add `41` to the value of `data` at index [0, 0]**"
      ]
    },
    {
      "cell_type": "code",
      "execution_count": 7,
      "metadata": {
        "id": "N-apgSr6eKoy",
        "papermill": {
          "duration": 0.04927,
          "end_time": "2022-02-04T05:32:40.574766",
          "exception": false,
          "start_time": "2022-02-04T05:32:40.525496",
          "status": "completed"
        },
        "tags": [],
        "trusted": true
      },
      "outputs": [],
      "source": [
        "data = data.at[0, 0].add(41)"
      ]
    },
    {
      "cell_type": "markdown",
      "metadata": {
        "id": "Hk0EJE1SeKo2",
        "papermill": {
          "duration": 0.014949,
          "end_time": "2022-02-04T05:32:40.605037",
          "exception": false,
          "start_time": "2022-02-04T05:32:40.590088",
          "status": "completed"
        },
        "tags": []
      },
      "source": [
        "**Exercise 16: Calculate the minimum values over axis=1 and assign it to `mins`**"
      ]
    },
    {
      "cell_type": "code",
      "execution_count": 8,
      "metadata": {
        "colab": {
          "base_uri": "https://localhost:8080/"
        },
        "id": "ME7KWTA-eKo4",
        "outputId": "dafcea6c-a8b1-4329-92bf-f34095d66938",
        "papermill": {
          "duration": 0.045563,
          "end_time": "2022-02-04T05:32:40.665761",
          "exception": false,
          "start_time": "2022-02-04T05:32:40.620198",
          "status": "completed"
        },
        "tags": [],
        "trusted": true
      },
      "outputs": [
        {
          "data": {
            "text/plain": [
              "DeviceArray([ 1, 14], dtype=int32)"
            ]
          },
          "execution_count": 8,
          "metadata": {},
          "output_type": "execute_result"
        }
      ],
      "source": [
        "mins = data.min(axis=1)\n",
        "mins"
      ]
    },
    {
      "cell_type": "markdown",
      "metadata": {
        "id": "-47JQNJmeKo_",
        "papermill": {
          "duration": 0.015089,
          "end_time": "2022-02-04T05:32:40.69668",
          "exception": false,
          "start_time": "2022-02-04T05:32:40.681591",
          "status": "completed"
        },
        "tags": []
      },
      "source": [
        "**Exercise 17: Select the first row of values of `data` and assign it to `data_select`**"
      ]
    },
    {
      "cell_type": "code",
      "execution_count": 9,
      "metadata": {
        "colab": {
          "base_uri": "https://localhost:8080/"
        },
        "id": "YsDGA18keKpA",
        "outputId": "5dbeb814-38d0-4e33-cbfb-564e0a8b4db4",
        "papermill": {
          "duration": 0.038962,
          "end_time": "2022-02-04T05:32:40.751039",
          "exception": false,
          "start_time": "2022-02-04T05:32:40.712077",
          "status": "completed"
        },
        "tags": [],
        "trusted": true
      },
      "outputs": [
        {
          "data": {
            "text/plain": [
              "DeviceArray([51,  1, 24], dtype=int32)"
            ]
          },
          "execution_count": 9,
          "metadata": {},
          "output_type": "execute_result"
        }
      ],
      "source": [
        "data_select = data[0, :]\n",
        "data_select"
      ]
    },
    {
      "cell_type": "markdown",
      "metadata": {
        "id": "FZI9UGSteKpB",
        "papermill": {
          "duration": 0.015551,
          "end_time": "2022-02-04T05:32:40.783104",
          "exception": false,
          "start_time": "2022-02-04T05:32:40.767553",
          "status": "completed"
        },
        "tags": []
      },
      "source": [
        "**Exercise 18: Append the row `data_select` to `data`**"
      ]
    },
    {
      "cell_type": "code",
      "execution_count": 10,
      "metadata": {
        "colab": {
          "base_uri": "https://localhost:8080/"
        },
        "id": "F-1qN9nveKpJ",
        "outputId": "d173c7fc-6d18-4f55-fe65-ad6e8e0f8505",
        "papermill": {
          "duration": 0.045961,
          "end_time": "2022-02-04T05:32:40.845032",
          "exception": false,
          "start_time": "2022-02-04T05:32:40.799071",
          "status": "completed"
        },
        "tags": [],
        "trusted": true
      },
      "outputs": [
        {
          "data": {
            "text/plain": [
              "DeviceArray([[ 51,   1,  24],\n",
              "             [ 20, 100,  14],\n",
              "             [ 51,   1,  24]], dtype=int32)"
            ]
          },
          "execution_count": 10,
          "metadata": {},
          "output_type": "execute_result"
        }
      ],
      "source": [
        "data = jnp.vstack([data, data_select])\n",
        "data"
      ]
    },
    {
      "cell_type": "markdown",
      "metadata": {
        "id": "1puNoLNSeKpL",
        "papermill": {
          "duration": 0.016189,
          "end_time": "2022-02-04T05:32:40.877297",
          "exception": false,
          "start_time": "2022-02-04T05:32:40.861108",
          "status": "completed"
        },
        "tags": []
      },
      "source": [
        "**Exercise 19: Multiply the matrices `data` and `dataT` and assign it to `data_prod`**"
      ]
    },
    {
      "cell_type": "code",
      "execution_count": 11,
      "metadata": {
        "colab": {
          "base_uri": "https://localhost:8080/"
        },
        "id": "SjCIX2CFeKpM",
        "outputId": "93b70511-0438-4e03-b651-dad5ec391748",
        "papermill": {
          "duration": 0.069366,
          "end_time": "2022-02-04T05:32:40.963984",
          "exception": false,
          "start_time": "2022-02-04T05:32:40.894618",
          "status": "completed"
        },
        "tags": [],
        "trusted": true
      },
      "outputs": [
        {
          "data": {
            "text/plain": [
              "DeviceArray([[1087, 1371],\n",
              "             [ 636, 2096],\n",
              "             [1087, 1371]], dtype=int32)"
            ]
          },
          "execution_count": 11,
          "metadata": {},
          "output_type": "execute_result"
        }
      ],
      "source": [
        "data_prod = jnp.dot(data, dataT)\n",
        "data_prod"
      ]
    },
    {
      "cell_type": "markdown",
      "metadata": {
        "id": "f_kFZyvueKpN",
        "papermill": {
          "duration": 0.022086,
          "end_time": "2022-02-04T05:32:41.006371",
          "exception": false,
          "start_time": "2022-02-04T05:32:40.984285",
          "status": "completed"
        },
        "tags": []
      },
      "source": [
        "**Exercise 20: Convert the dtype of `data_prod` to `float32`**"
      ]
    },
    {
      "cell_type": "code",
      "execution_count": 13,
      "metadata": {
        "colab": {
          "base_uri": "https://localhost:8080/"
        },
        "id": "lBGI7H2aeKpN",
        "outputId": "e9cf953c-b3a1-453d-8b78-079e3693e200",
        "papermill": {
          "duration": 0.047491,
          "end_time": "2022-02-04T05:32:41.071596",
          "exception": false,
          "start_time": "2022-02-04T05:32:41.024105",
          "status": "completed"
        },
        "tags": [],
        "trusted": true
      },
      "outputs": [
        {
          "data": {
            "text/plain": [
              "DeviceArray([[1087., 1371.],\n",
              "             [ 636., 2096.],\n",
              "             [1087., 1371.]], dtype=float32)"
            ]
          },
          "execution_count": 13,
          "metadata": {},
          "output_type": "execute_result"
        }
      ],
      "source": [
        "data_prod = jnp.array(data_prod, dtype=jnp.float32)\n",
        "data_prod"
      ]
    },
    {
      "cell_type": "markdown",
      "metadata": {
        "id": "SopWv0jYeKpO",
        "papermill": {
          "duration": 0.016134,
          "end_time": "2022-02-04T05:32:41.104868",
          "exception": false,
          "start_time": "2022-02-04T05:32:41.088734",
          "status": "completed"
        },
        "tags": []
      },
      "source": [
        "<center>\n",
        "    This completes Set 2: Data Operations (Exercises 11-20) of <b>JaxTon</b>: <i>💯 JAX exercises</i>\n",
        "    <br>\n",
        "    You can find all the exercises and solutions on <a href=\"https://github.com/vopani/jaxton#exercises-\">GitHub</a>\n",
        "</center>"
      ]
    }
  ],
  "metadata": {
    "colab": {
      "name": "02_data_operations_exercises.ipynb",
      "provenance": []
    },
    "kernelspec": {
      "display_name": "Python 3",
      "language": "python",
      "name": "python3"
    },
    "language_info": {
      "codemirror_mode": {
        "name": "ipython",
        "version": 3
      },
      "file_extension": ".py",
      "mimetype": "text/x-python",
      "name": "python",
      "nbconvert_exporter": "python",
      "pygments_lexer": "ipython3",
      "version": "3.7.12"
    }
  },
  "nbformat": 4,
  "nbformat_minor": 0
}
