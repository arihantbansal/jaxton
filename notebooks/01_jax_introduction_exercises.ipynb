{
  "cells": [
    {
     "name": "stderr",
     "output_type": "stream",
     "text": [
      "Python was not found; run without arguments to install from the Microsoft Store, or disable this shortcut from Settings > Manage App Execution Aliases.\n"
     ]
    }
   ],
   "source": [
    "## install jax\n",
    "!python3 -m pip install jax"
   ]
  },
  {
   "cell_type": "code",
   "execution_count": 2,
   "id": "e69ca336",
   "metadata": {
    "_kg_hide-input": false,
    "execution": {
     "iopub.execute_input": "2022-02-04T05:43:50.960581Z",
     "iopub.status.busy": "2022-02-04T05:43:50.959795Z",
     "iopub.status.idle": "2022-02-04T05:43:52.541427Z",
     "shell.execute_reply": "2022-02-04T05:43:52.541978Z",
     "shell.execute_reply.started": "2022-02-01T05:16:22.66508Z"
    },
    "papermill": {
     "duration": 1.604412,
     "end_time": "2022-02-04T05:43:52.542130",
     "exception": false,
     "start_time": "2022-02-04T05:43:50.937718",
     "status": "completed"
    },
    {
     "ename": "ModuleNotFoundError",
     "evalue": "jax requires jaxlib to be installed. See https://github.com/google/jax#installation for installation instructions.",
     "output_type": "error",
     "traceback": [
      "\u001b[1;31m---------------------------------------------------------------------------\u001b[0m",
      "\u001b[1;31mModuleNotFoundError\u001b[0m                       Traceback (most recent call last)",
      "\u001b[1;32m~\\anaconda3\\envs\\ml\\lib\\site-packages\\jax\\_src\\lib\\__init__.py\u001b[0m in \u001b[0;36m<module>\u001b[1;34m\u001b[0m\n\u001b[0;32m     36\u001b[0m \u001b[1;32mtry\u001b[0m\u001b[1;33m:\u001b[0m\u001b[1;33m\u001b[0m\u001b[1;33m\u001b[0m\u001b[0m\n\u001b[1;32m---> 37\u001b[1;33m   \u001b[1;32mimport\u001b[0m \u001b[0mjaxlib\u001b[0m \u001b[1;32mas\u001b[0m \u001b[0mjaxlib\u001b[0m\u001b[1;33m\u001b[0m\u001b[1;33m\u001b[0m\u001b[0m\n\u001b[0m\u001b[0;32m     38\u001b[0m \u001b[1;32mexcept\u001b[0m \u001b[0mModuleNotFoundError\u001b[0m \u001b[1;32mas\u001b[0m \u001b[0merr\u001b[0m\u001b[1;33m:\u001b[0m\u001b[1;33m\u001b[0m\u001b[1;33m\u001b[0m\u001b[0m\n",
      "\u001b[1;31mModuleNotFoundError\u001b[0m: No module named 'jaxlib'",
      "\nThe above exception was the direct cause of the following exception:\n",
      "\u001b[1;31mModuleNotFoundError\u001b[0m                       Traceback (most recent call last)",
      "\u001b[1;32m~\\AppData\\Local\\Temp/ipykernel_50336/3702675761.py\u001b[0m in \u001b[0;36m<module>\u001b[1;34m\u001b[0m\n\u001b[0;32m      1\u001b[0m \u001b[1;31m## import packages\u001b[0m\u001b[1;33m\u001b[0m\u001b[1;33m\u001b[0m\u001b[0m\n\u001b[1;32m----> 2\u001b[1;33m \u001b[1;32mimport\u001b[0m \u001b[0mjax\u001b[0m\u001b[1;33m\u001b[0m\u001b[1;33m\u001b[0m\u001b[0m\n\u001b[0m\u001b[0;32m      3\u001b[0m \u001b[1;32mimport\u001b[0m \u001b[0mos\u001b[0m\u001b[1;33m\u001b[0m\u001b[1;33m\u001b[0m\u001b[0m\n\u001b[0;32m      4\u001b[0m \u001b[1;32mimport\u001b[0m \u001b[0mrequests\u001b[0m\u001b[1;33m\u001b[0m\u001b[1;33m\u001b[0m\u001b[0m\n\u001b[0;32m      5\u001b[0m \u001b[1;33m\u001b[0m\u001b[0m\n",
      "\u001b[1;32m~\\anaconda3\\envs\\ml\\lib\\site-packages\\jax\\__init__.py\u001b[0m in \u001b[0;36m<module>\u001b[1;34m\u001b[0m\n\u001b[0;32m     35\u001b[0m \u001b[1;31m# We want the exported object to be the class, so we first import the module\u001b[0m\u001b[1;33m\u001b[0m\u001b[1;33m\u001b[0m\u001b[0m\n\u001b[0;32m     36\u001b[0m \u001b[1;31m# to make sure a later import doesn't overwrite the class.\u001b[0m\u001b[1;33m\u001b[0m\u001b[1;33m\u001b[0m\u001b[0m\n\u001b[1;32m---> 37\u001b[1;33m \u001b[1;32mfrom\u001b[0m \u001b[0mjax\u001b[0m \u001b[1;32mimport\u001b[0m \u001b[0mconfig\u001b[0m \u001b[1;32mas\u001b[0m \u001b[0m_config_module\u001b[0m\u001b[1;33m\u001b[0m\u001b[1;33m\u001b[0m\u001b[0m\n\u001b[0m\u001b[0;32m     38\u001b[0m \u001b[1;32mdel\u001b[0m \u001b[0m_config_module\u001b[0m\u001b[1;33m\u001b[0m\u001b[1;33m\u001b[0m\u001b[0m\n\u001b[0;32m     39\u001b[0m \u001b[1;33m\u001b[0m\u001b[0m\n",
      "\u001b[1;32m~\\anaconda3\\envs\\ml\\lib\\site-packages\\jax\\config.py\u001b[0m in \u001b[0;36m<module>\u001b[1;34m\u001b[0m\n\u001b[0;32m     16\u001b[0m \u001b[1;33m\u001b[0m\u001b[0m\n\u001b[0;32m     17\u001b[0m \u001b[1;31m# flake8: noqa: F401\u001b[0m\u001b[1;33m\u001b[0m\u001b[1;33m\u001b[0m\u001b[0m\n\u001b[1;32m---> 18\u001b[1;33m \u001b[1;32mfrom\u001b[0m \u001b[0mjax\u001b[0m\u001b[1;33m.\u001b[0m\u001b[0m_src\u001b[0m\u001b[1;33m.\u001b[0m\u001b[0mconfig\u001b[0m \u001b[1;32mimport\u001b[0m \u001b[0mconfig\u001b[0m\u001b[1;33m\u001b[0m\u001b[1;33m\u001b[0m\u001b[0m\n\u001b[0m",
      "\u001b[1;32m~\\anaconda3\\envs\\ml\\lib\\site-packages\\jax\\_src\\config.py\u001b[0m in \u001b[0;36m<module>\u001b[1;34m\u001b[0m\n\u001b[0;32m     25\u001b[0m \u001b[1;32mimport\u001b[0m \u001b[0mwarnings\u001b[0m\u001b[1;33m\u001b[0m\u001b[1;33m\u001b[0m\u001b[0m\n\u001b[0;32m     26\u001b[0m \u001b[1;33m\u001b[0m\u001b[0m\n\u001b[1;32m---> 27\u001b[1;33m \u001b[1;32mfrom\u001b[0m \u001b[0mjax\u001b[0m\u001b[1;33m.\u001b[0m\u001b[0m_src\u001b[0m \u001b[1;32mimport\u001b[0m \u001b[0mlib\u001b[0m\u001b[1;33m\u001b[0m\u001b[1;33m\u001b[0m\u001b[0m\n\u001b[0m\u001b[0;32m     28\u001b[0m \u001b[1;32mfrom\u001b[0m \u001b[0mjax\u001b[0m\u001b[1;33m.\u001b[0m\u001b[0m_src\u001b[0m\u001b[1;33m.\u001b[0m\u001b[0mlib\u001b[0m \u001b[1;32mimport\u001b[0m \u001b[0mjax_jit\u001b[0m\u001b[1;33m\u001b[0m\u001b[1;33m\u001b[0m\u001b[0m\n\u001b[0;32m     29\u001b[0m \u001b[1;33m\u001b[0m\u001b[0m\n",
      "\u001b[1;32m~\\anaconda3\\envs\\ml\\lib\\site-packages\\jax\\_src\\lib\\__init__.py\u001b[0m in \u001b[0;36m<module>\u001b[1;34m\u001b[0m\n\u001b[0;32m     37\u001b[0m   \u001b[1;32mimport\u001b[0m \u001b[0mjaxlib\u001b[0m \u001b[1;32mas\u001b[0m \u001b[0mjaxlib\u001b[0m\u001b[1;33m\u001b[0m\u001b[1;33m\u001b[0m\u001b[0m\n\u001b[0;32m     38\u001b[0m \u001b[1;32mexcept\u001b[0m \u001b[0mModuleNotFoundError\u001b[0m \u001b[1;32mas\u001b[0m \u001b[0merr\u001b[0m\u001b[1;33m:\u001b[0m\u001b[1;33m\u001b[0m\u001b[1;33m\u001b[0m\u001b[0m\n\u001b[1;32m---> 39\u001b[1;33m   raise ModuleNotFoundError(\n\u001b[0m\u001b[0;32m     40\u001b[0m     \u001b[1;34m'jax requires jaxlib to be installed. See '\u001b[0m\u001b[1;33m\u001b[0m\u001b[1;33m\u001b[0m\u001b[0m\n\u001b[0;32m     41\u001b[0m     \u001b[1;34m'https://github.com/google/jax#installation for installation instructions.'\u001b[0m\u001b[1;33m\u001b[0m\u001b[1;33m\u001b[0m\u001b[0m\n",
      "\u001b[1;31mModuleNotFoundError\u001b[0m: jax requires jaxlib to be installed. See https://github.com/google/jax#installation for installation instructions."
     ]
    }
   ],
   "source": [
    "## import packages\n",
    "import jax\n",
    "import os\n",
    "import requests\n",
    "\n",
    "## setup JAX to use TPUs if available\n",
    "try:\n",
    "    url = 'http:' + os.environ['TPU_NAME'].split(':')[1] + ':8475/requestversion/tpu_driver_nightly'\n",
    "    resp = requests.post(url)\n",
    "    jax.config.FLAGS.jax_xla_backend = 'tpu_driver'\n",
    "    jax.config.FLAGS.jax_backend_target = os.environ['TPU_NAME']\n",
    "except:\n",
    "    pass\n",
    "\n",
    "jax.devices()"
   ]
  },
  {
   "cell_type": "markdown",
   "id": "aad6f98c",
   "metadata": {
    "papermill": {
     "duration": 0.015119,
     "end_time": "2022-02-04T05:43:52.572454",
     "exception": false,
     "start_time": "2022-02-04T05:43:52.557335",
     "status": "completed"
    },
    "tags": []
   },
   "source": [
    "**Exercise 1: Install the `jax` package**"
   ]
  },
  {
   "cell_type": "code",
   "execution_count": null,
   "id": "ccc645b0",
   "metadata": {
    "execution": {
     "iopub.execute_input": "2022-02-01T05:17:14.073981Z",
     "iopub.status.busy": "2022-02-01T05:17:14.073431Z",
     "iopub.status.idle": "2022-02-01T05:17:25.546204Z",
     "shell.execute_reply": "2022-02-01T05:17:25.544868Z",
     "shell.execute_reply.started": "2022-02-01T05:17:14.073939Z"
    },
    {
      "cell_type": "markdown",
      "id": "c0fd74e4",
      "metadata": {
        "papermill": {
          "duration": 0.013566,
          "end_time": "2022-02-04T05:43:42.573889",
          "exception": false,
          "start_time": "2022-02-04T05:43:42.560323",
          "status": "completed"
        },
        "tags": [],
        "id": "c0fd74e4"
      },
      "source": [
        "<center>\n",
        "    This is Set 1: JAX Introduction (Exercises 1-10) of <b>JaxTon</b>: <i>💯 JAX exercises</i>\n",
        "    <br>\n",
        "    You can find all the exercises and solutions on <a href=\"https://github.com/vopani/jaxton#exercises-\">GitHub</a>\n",
        "</center>"
      ]
    },
    {
      "cell_type": "markdown",
      "id": "53bb1d0b",
      "metadata": {
        "papermill": {
          "duration": 0.016632,
          "end_time": "2022-02-04T05:43:42.604504",
          "exception": false,
          "start_time": "2022-02-04T05:43:42.587872",
          "status": "completed"
        },
        "tags": [],
        "id": "53bb1d0b"
      },
      "source": [
        "**Prerequisites**\n",
        "\n",
        "* The configuration of jax should be updated as shown in the code snippet below in order to use TPUs"
      ]
    },
    {
      "cell_type": "code",
      "execution_count": 1,
      "id": "e0348eb5",
      "metadata": {
        "_kg_hide-input": true,
        "_kg_hide-output": true,
        "execution": {
          "iopub.execute_input": "2022-02-04T05:43:42.647079Z",
          "iopub.status.busy": "2022-02-04T05:43:42.646359Z",
          "iopub.status.idle": "2022-02-04T05:43:50.922301Z",
          "shell.execute_reply": "2022-02-04T05:43:50.921701Z",
          "shell.execute_reply.started": "2022-02-01T05:15:52.232936Z"
        },
        "papermill": {
          "duration": 8.301888,
          "end_time": "2022-02-04T05:43:50.922460",
          "exception": false,
          "start_time": "2022-02-04T05:43:42.620572",
          "status": "completed"
        },
        "tags": [],
        "id": "e0348eb5",
        "outputId": "ca5d2cdd-910b-4e92-85af-137f0e1c249a",
        "colab": {
          "base_uri": "https://localhost:8080/"
        }
      },
      "outputs": [
        {
          "output_type": "stream",
          "name": "stdout",
          "text": [
            "Requirement already satisfied: jax in /usr/local/lib/python3.7/dist-packages (0.2.25)\n",
            "Requirement already satisfied: absl-py in /usr/local/lib/python3.7/dist-packages (from jax) (1.0.0)\n",
            "Requirement already satisfied: typing-extensions in /usr/local/lib/python3.7/dist-packages (from jax) (3.10.0.2)\n",
            "Requirement already satisfied: opt-einsum in /usr/local/lib/python3.7/dist-packages (from jax) (3.3.0)\n",
            "Requirement already satisfied: numpy>=1.18 in /usr/local/lib/python3.7/dist-packages (from jax) (1.19.5)\n",
            "Requirement already satisfied: scipy>=1.2.1 in /usr/local/lib/python3.7/dist-packages (from jax) (1.4.1)\n",
            "Requirement already satisfied: six in /usr/local/lib/python3.7/dist-packages (from absl-py->jax) (1.15.0)\n"
          ]
        }
      ],
      "source": [
        "## install jax\n",
        "!python3 -m pip install jax"
      ]
    },
    {
      "cell_type": "code",
      "execution_count": 2,
      "id": "e69ca336",
      "metadata": {
        "_kg_hide-input": false,
        "execution": {
          "iopub.execute_input": "2022-02-04T05:43:50.960581Z",
          "iopub.status.busy": "2022-02-04T05:43:50.959795Z",
          "iopub.status.idle": "2022-02-04T05:43:52.541427Z",
          "shell.execute_reply": "2022-02-04T05:43:52.541978Z",
          "shell.execute_reply.started": "2022-02-01T05:16:22.66508Z"
        },
        "papermill": {
          "duration": 1.604412,
          "end_time": "2022-02-04T05:43:52.542130",
          "exception": false,
          "start_time": "2022-02-04T05:43:50.937718",
          "status": "completed"
        },
        "tags": [],
        "id": "e69ca336",
        "outputId": "0237863a-2767-432a-8e04-f758ab1394c3",
        "colab": {
          "base_uri": "https://localhost:8080/"
        }
      },
      "outputs": [
        {
          "output_type": "stream",
          "name": "stderr",
          "text": [
            "WARNING:absl:No GPU/TPU found, falling back to CPU. (Set TF_CPP_MIN_LOG_LEVEL=0 and rerun for more info.)\n"
          ]
        },
        {
          "output_type": "execute_result",
          "data": {
            "text/plain": [
              "[<jaxlib.xla_extension.Device at 0x7f7644a9ebb0>]"
            ]
          },
          "metadata": {},
          "execution_count": 2
        }
      ],
      "source": [
        "## import packages\n",
        "import jax\n",
        "import os\n",
        "import requests\n",
        "\n",
        "## setup JAX to use TPUs if available\n",
        "try:\n",
        "    url = 'http:' + os.environ['TPU_NAME'].split(':')[1] + ':8475/requestversion/tpu_driver_nightly'\n",
        "    resp = requests.post(url)\n",
        "    jax.config.FLAGS.jax_xla_backend = 'tpu_driver'\n",
        "    jax.config.FLAGS.jax_backend_target = os.environ['TPU_NAME']\n",
        "except:\n",
        "    pass\n",
        "\n",
        "jax.devices()"
      ]
    },
    {
      "cell_type": "markdown",
      "id": "aad6f98c",
      "metadata": {
        "papermill": {
          "duration": 0.015119,
          "end_time": "2022-02-04T05:43:52.572454",
          "exception": false,
          "start_time": "2022-02-04T05:43:52.557335",
          "status": "completed"
        },
        "tags": [],
        "id": "aad6f98c"
      },
      "source": [
        "**Exercise 1: Install the `jax` package**"
      ]
    },
    {
      "cell_type": "code",
      "execution_count": 3,
      "id": "ccc645b0",
      "metadata": {
        "execution": {
          "iopub.execute_input": "2022-02-01T05:17:14.073981Z",
          "iopub.status.busy": "2022-02-01T05:17:14.073431Z",
          "iopub.status.idle": "2022-02-01T05:17:25.546204Z",
          "shell.execute_reply": "2022-02-01T05:17:25.544868Z",
          "shell.execute_reply.started": "2022-02-01T05:17:14.073939Z"
        },
        "papermill": {
          "duration": 0.01507,
          "end_time": "2022-02-04T05:43:52.603107",
          "exception": false,
          "start_time": "2022-02-04T05:43:52.588037",
          "status": "completed"
        },
        "tags": [],
        "id": "ccc645b0",
        "outputId": "e3ef04b3-4c57-4e5d-ed53-7afbd0024732",
        "colab": {
          "base_uri": "https://localhost:8080/"
        }
      },
      "outputs": [
        {
          "output_type": "stream",
          "name": "stdout",
          "text": [
            "Requirement already satisfied: jax in /usr/local/lib/python3.7/dist-packages (0.2.25)\n",
            "Requirement already satisfied: opt-einsum in /usr/local/lib/python3.7/dist-packages (from jax) (3.3.0)\n",
            "Requirement already satisfied: numpy>=1.18 in /usr/local/lib/python3.7/dist-packages (from jax) (1.19.5)\n",
            "Requirement already satisfied: scipy>=1.2.1 in /usr/local/lib/python3.7/dist-packages (from jax) (1.4.1)\n",
            "Requirement already satisfied: typing-extensions in /usr/local/lib/python3.7/dist-packages (from jax) (3.10.0.2)\n",
            "Requirement already satisfied: absl-py in /usr/local/lib/python3.7/dist-packages (from jax) (1.0.0)\n",
            "Requirement already satisfied: six in /usr/local/lib/python3.7/dist-packages (from absl-py->jax) (1.15.0)\n"
          ]
        }
      ],
      "source": [
        "!python3 -m pip install jax"
      ]
    },
    {
      "cell_type": "markdown",
      "id": "13e0f9be",
      "metadata": {
        "papermill": {
          "duration": 0.015149,
          "end_time": "2022-02-04T05:43:52.633816",
          "exception": false,
          "start_time": "2022-02-04T05:43:52.618667",
          "status": "completed"
        },
        "tags": [],
        "id": "13e0f9be"
      },
      "source": [
        "**Exercise 2: Import the `jax` package**"
      ]
    },
    {
      "cell_type": "code",
      "execution_count": 4,
      "id": "d56f2ca4",
      "metadata": {
        "execution": {
          "iopub.execute_input": "2022-02-01T05:17:32.165718Z",
          "iopub.status.busy": "2022-02-01T05:17:32.1651Z",
          "iopub.status.idle": "2022-02-01T05:17:32.171711Z",
          "shell.execute_reply": "2022-02-01T05:17:32.17069Z",
          "shell.execute_reply.started": "2022-02-01T05:17:32.165657Z"
        },
        "papermill": {
          "duration": 0.015184,
          "end_time": "2022-02-04T05:43:52.664635",
          "exception": false,
          "start_time": "2022-02-04T05:43:52.649451",
          "status": "completed"
        },
        "tags": [],
        "id": "d56f2ca4"
      },
      "outputs": [],
      "source": [
        "import jax"
      ]
    },
    {
      "cell_type": "markdown",
      "id": "c8a1e0c2",
      "metadata": {
        "papermill": {
          "duration": 0.015275,
          "end_time": "2022-02-04T05:43:52.695343",
          "exception": false,
          "start_time": "2022-02-04T05:43:52.680068",
          "status": "completed"
        },
        "tags": [],
        "id": "c8a1e0c2"
      },
      "source": [
        "**Exercise 3: Display the version of `jax`**"
      ]
    },
    {
      "cell_type": "code",
      "execution_count": 6,
      "id": "6bca4b38",
      "metadata": {
        "execution": {
          "iopub.execute_input": "2022-02-01T05:17:33.885923Z",
          "iopub.status.busy": "2022-02-01T05:17:33.885396Z",
          "iopub.status.idle": "2022-02-01T05:17:33.89374Z",
          "shell.execute_reply": "2022-02-01T05:17:33.892733Z",
          "shell.execute_reply.started": "2022-02-01T05:17:33.885883Z"
        },
        "papermill": {
          "duration": 0.015096,
          "end_time": "2022-02-04T05:43:52.726000",
          "exception": false,
          "start_time": "2022-02-04T05:43:52.710904",
          "status": "completed"
        },
        "tags": [],
        "id": "6bca4b38",
        "outputId": "30d01249-89a6-4605-e536-f961c490a1ae",
        "colab": {
          "base_uri": "https://localhost:8080/",
          "height": 35
        }
      },
      "outputs": [
        {
          "output_type": "execute_result",
          "data": {
            "application/vnd.google.colaboratory.intrinsic+json": {
              "type": "string"
            },
            "text/plain": [
              "'0.2.25'"
            ]
          },
          "metadata": {},
          "execution_count": 6
        }
      ],
      "source": [
        "jax.__version__"
      ]
    },
    {
      "cell_type": "markdown",
      "id": "06a2e560",
      "metadata": {
        "papermill": {
          "duration": 0.015621,
          "end_time": "2022-02-04T05:43:52.757098",
          "exception": false,
          "start_time": "2022-02-04T05:43:52.741477",
          "status": "completed"
        },
        "tags": [],
        "id": "06a2e560"
      },
      "source": [
        "**Exercise 4: Display the default backend of `jax`**"
      ]
    },
    {
      "cell_type": "code",
      "execution_count": 7,
      "id": "6a8ee7a7",
      "metadata": {
        "execution": {
          "iopub.execute_input": "2022-02-01T05:17:38.119707Z",
          "iopub.status.busy": "2022-02-01T05:17:38.119275Z",
          "iopub.status.idle": "2022-02-01T05:17:38.127827Z",
          "shell.execute_reply": "2022-02-01T05:17:38.126642Z",
          "shell.execute_reply.started": "2022-02-01T05:17:38.119666Z"
        },
        "papermill": {
          "duration": 0.014844,
          "end_time": "2022-02-04T05:43:52.787056",
          "exception": false,
          "start_time": "2022-02-04T05:43:52.772212",
          "status": "completed"
        },
        "tags": [],
        "id": "6a8ee7a7",
        "outputId": "b7d2f082-28a1-4856-a832-570e0ec84347",
        "colab": {
          "base_uri": "https://localhost:8080/",
          "height": 35
        }
      },
      "outputs": [
        {
          "output_type": "execute_result",
          "data": {
            "application/vnd.google.colaboratory.intrinsic+json": {
              "type": "string"
            },
            "text/plain": [
              "'cpu'"
            ]
          },
          "metadata": {},
          "execution_count": 7
        }
      ],
      "source": [
        "jax.default_backend()"
      ]
    },
    {
      "cell_type": "markdown",
      "id": "b19339ca",
      "metadata": {
        "papermill": {
          "duration": 0.015022,
          "end_time": "2022-02-04T05:43:52.817206",
          "exception": false,
          "start_time": "2022-02-04T05:43:52.802184",
          "status": "completed"
        },
        "tags": [],
        "id": "b19339ca"
      },
      "source": [
        "**Exercise 5: Display the devices of the backend**"
      ]
    },
    {
      "cell_type": "code",
      "execution_count": 8,
      "id": "652a06b4",
      "metadata": {
        "execution": {
          "iopub.execute_input": "2022-02-01T05:17:40.630112Z",
          "iopub.status.busy": "2022-02-01T05:17:40.629603Z",
          "iopub.status.idle": "2022-02-01T05:17:40.638453Z",
          "shell.execute_reply": "2022-02-01T05:17:40.637148Z",
          "shell.execute_reply.started": "2022-02-01T05:17:40.630062Z"
        },
        "papermill": {
          "duration": 0.014728,
          "end_time": "2022-02-04T05:43:52.847044",
          "exception": false,
          "start_time": "2022-02-04T05:43:52.832316",
          "status": "completed"
        },
        "tags": [],
        "id": "652a06b4",
        "outputId": "817cfe49-5425-4b0a-e5df-b2ade09650cb",
        "colab": {
          "base_uri": "https://localhost:8080/"
        }
      },
      "outputs": [
        {
          "output_type": "execute_result",
          "data": {
            "text/plain": [
              "[<jaxlib.xla_extension.Device at 0x7f7644a9ebb0>]"
            ]
          },
          "metadata": {},
          "execution_count": 8
        }
      ],
      "source": [
        "jax.devices()"
      ]
    },
    {
      "cell_type": "markdown",
      "id": "d70c78db",
      "metadata": {
        "papermill": {
          "duration": 0.014851,
          "end_time": "2022-02-04T05:43:52.877057",
          "exception": false,
          "start_time": "2022-02-04T05:43:52.862206",
          "status": "completed"
        },
        "tags": [],
        "id": "d70c78db"
      },
      "source": [
        "**Exercise 6: Create a JAX DeviceArray with values [10, 1, 24] and assign it to `data`**"
      ]
    },
    {
      "cell_type": "code",
      "execution_count": 9,
      "id": "ebb578e9",
      "metadata": {
        "execution": {
          "iopub.execute_input": "2022-02-01T05:18:28.960603Z",
          "iopub.status.busy": "2022-02-01T05:18:28.960026Z",
          "iopub.status.idle": "2022-02-01T05:18:28.985599Z",
          "shell.execute_reply": "2022-02-01T05:18:28.984531Z",
          "shell.execute_reply.started": "2022-02-01T05:18:28.96055Z"
        },
        "papermill": {
          "duration": 0.015215,
          "end_time": "2022-02-04T05:43:52.907368",
          "exception": false,
          "start_time": "2022-02-04T05:43:52.892153",
          "status": "completed"
        },
        "tags": [],
        "id": "ebb578e9",
        "outputId": "d25ab9ce-e587-4e6e-b80c-8ff18438082a",
        "colab": {
          "base_uri": "https://localhost:8080/"
        }
      },
      "outputs": [
        {
          "output_type": "execute_result",
          "data": {
            "text/plain": [
              "DeviceArray([10,  1, 24], dtype=int32)"
            ]
          },
          "metadata": {},
          "execution_count": 9
        }
      ],
      "source": [
        "data = jax.numpy.array([10, 1, 24])\n",
        "data"
      ]
    },
    {
      "cell_type": "markdown",
      "id": "226bb00b",
      "metadata": {
        "papermill": {
          "duration": 0.015939,
          "end_time": "2022-02-04T05:43:52.938499",
          "exception": false,
          "start_time": "2022-02-04T05:43:52.922560",
          "status": "completed"
        },
        "tags": [],
        "id": "226bb00b"
      },
      "source": [
        "**Exercise 7: Display the type of `data`**"
      ]
    },
    {
      "cell_type": "code",
      "execution_count": 12,
      "id": "52cc981a",
      "metadata": {
        "execution": {
          "iopub.execute_input": "2022-02-01T05:19:00.958743Z",
          "iopub.status.busy": "2022-02-01T05:19:00.958211Z",
          "iopub.status.idle": "2022-02-01T05:19:00.965711Z",
          "shell.execute_reply": "2022-02-01T05:19:00.964774Z",
          "shell.execute_reply.started": "2022-02-01T05:19:00.958703Z"
        },
        "papermill": {
          "duration": 0.014825,
          "end_time": "2022-02-04T05:43:52.968448",
          "exception": false,
          "start_time": "2022-02-04T05:43:52.953623",
          "status": "completed"
        },
        "tags": [],
        "id": "52cc981a",
        "outputId": "f2e68948-4430-4f44-cf11-d030e2e14e08",
        "colab": {
          "base_uri": "https://localhost:8080/"
        }
      },
      "outputs": [
        {
          "output_type": "execute_result",
          "data": {
            "text/plain": [
              "jaxlib.xla_extension.DeviceArray"
            ]
          },
          "metadata": {},
          "execution_count": 12
        }
      ],
      "source": [
        "data.dtype\n",
        "\n",
        "type(data)"
      ]
    },
    {
      "cell_type": "markdown",
      "id": "70b61c7e",
      "metadata": {
        "papermill": {
          "duration": 0.015115,
          "end_time": "2022-02-04T05:43:52.998842",
          "exception": false,
          "start_time": "2022-02-04T05:43:52.983727",
          "status": "completed"
        },
        "tags": [],
        "id": "70b61c7e"
      },
      "source": [
        "**Exercise 8: Display the shape of `data`**"
      ]
    },
    {
      "cell_type": "code",
      "execution_count": 11,
      "id": "96e1f1db",
      "metadata": {
        "execution": {
          "iopub.execute_input": "2022-02-01T05:19:08.410642Z",
          "iopub.status.busy": "2022-02-01T05:19:08.40967Z",
          "iopub.status.idle": "2022-02-01T05:19:08.418106Z",
          "shell.execute_reply": "2022-02-01T05:19:08.416852Z",
          "shell.execute_reply.started": "2022-02-01T05:19:08.410586Z"
        },
        "papermill": {
          "duration": 0.01539,
          "end_time": "2022-02-04T05:43:53.030211",
          "exception": false,
          "start_time": "2022-02-04T05:43:53.014821",
          "status": "completed"
        },
        "tags": [],
        "id": "96e1f1db",
        "outputId": "2c39eb7d-7444-4458-8747-1138fbe3dd9f",
        "colab": {
          "base_uri": "https://localhost:8080/"
        }
      },
      "outputs": [
        {
          "output_type": "execute_result",
          "data": {
            "text/plain": [
              "(3,)"
            ]
          },
          "metadata": {},
          "execution_count": 11
        }
      ],
      "source": [
        "data.shape"
      ]
    },
    {
      "cell_type": "markdown",
      "id": "3f35fac4",
      "metadata": {
        "papermill": {
          "duration": 0.014959,
          "end_time": "2022-02-04T05:43:53.060824",
          "exception": false,
          "start_time": "2022-02-04T05:43:53.045865",
          "status": "completed"
        },
        "tags": [],
        "id": "3f35fac4"
      },
      "source": [
        "**Exercise 9: Transfer `data` to host and assign it to `data_host`**"
      ]
    },
    {
      "cell_type": "code",
      "execution_count": 13,
      "id": "e7c890da",
      "metadata": {
        "execution": {
          "iopub.execute_input": "2022-02-01T05:19:11.716423Z",
          "iopub.status.busy": "2022-02-01T05:19:11.715543Z",
          "iopub.status.idle": "2022-02-01T05:19:11.727659Z",
          "shell.execute_reply": "2022-02-01T05:19:11.726676Z",
          "shell.execute_reply.started": "2022-02-01T05:19:11.716374Z"
        },
        "papermill": {
          "duration": 0.014957,
          "end_time": "2022-02-04T05:43:53.091005",
          "exception": false,
          "start_time": "2022-02-04T05:43:53.076048",
          "status": "completed"
        },
        "tags": [],
        "id": "e7c890da",
        "outputId": "864aa300-a64e-4148-c7d8-b4e3a44015a0",
        "colab": {
          "base_uri": "https://localhost:8080/"
        }
      },
      "outputs": [
        {
          "output_type": "execute_result",
          "data": {
            "text/plain": [
              "array([10,  1, 24], dtype=int32)"
            ]
          },
          "metadata": {},
          "execution_count": 13
        }
      ],
      "source": [
        "data_host = jax.device_get(data)\n",
        "data_host"
      ]
    },
    {
      "cell_type": "markdown",
      "id": "6a713691",
      "metadata": {
        "papermill": {
          "duration": 0.014873,
          "end_time": "2022-02-04T05:43:53.121512",
          "exception": false,
          "start_time": "2022-02-04T05:43:53.106639",
          "status": "completed"
        },
        "tags": [],
        "id": "6a713691"
      },
      "source": [
        "**Exercise 10: Transfer `data_host` to device and assign it to `data_device`**"
      ]
    },
    {
      "cell_type": "code",
      "execution_count": 14,
      "id": "1c04a9cb",
      "metadata": {
        "execution": {
          "iopub.execute_input": "2022-02-01T05:19:14.520396Z",
          "iopub.status.busy": "2022-02-01T05:19:14.519851Z",
          "iopub.status.idle": "2022-02-01T05:19:14.558624Z",
          "shell.execute_reply": "2022-02-01T05:19:14.557573Z",
          "shell.execute_reply.started": "2022-02-01T05:19:14.520351Z"
        },
        "papermill": {
          "duration": 0.015069,
          "end_time": "2022-02-04T05:43:53.151972",
          "exception": false,
          "start_time": "2022-02-04T05:43:53.136903",
          "status": "completed"
        },
        "tags": [],
        "id": "1c04a9cb",
        "outputId": "72210dfe-0ee3-4e1c-da06-6858fdc22777",
        "colab": {
          "base_uri": "https://localhost:8080/"
        }
      },
      "outputs": [
        {
          "output_type": "execute_result",
          "data": {
            "text/plain": [
              "DeviceArray([10,  1, 24], dtype=int32)"
            ]
          },
          "metadata": {},
          "execution_count": 14
        }
      ],
      "source": [
        "data_device = jax.device_put(data_host)\n",
        "data_device"
      ]
    },
    {
      "cell_type": "markdown",
      "id": "6ba47569",
      "metadata": {
        "papermill": {
          "duration": 0.01522,
          "end_time": "2022-02-04T05:43:53.182548",
          "exception": false,
          "start_time": "2022-02-04T05:43:53.167328",
          "status": "completed"
        },
        "tags": [],
        "id": "6ba47569"
      },
      "source": [
        "<center>\n",
        "    This completes Set 1: JAX Introduction (Exercises 1-10) of <b>JaxTon</b>: <i>💯 JAX exercises</i>\n",
        "    <br>\n",
        "    You can find all the exercises and solutions on <a href=\"https://github.com/vopani/jaxton#exercises-\">GitHub</a>\n",
        "</center>"
      ]
    }
  ],
  "metadata": {
    "kernelspec": {
      "display_name": "Python 3",
      "language": "python",
      "name": "python3"
    },
    "language_info": {
      "codemirror_mode": {
        "name": "ipython",
        "version": 3
      },
      "file_extension": ".py",
      "mimetype": "text/x-python",
      "name": "python",
      "nbconvert_exporter": "python",
      "pygments_lexer": "ipython3",
      "version": "3.7.12"
    },
    "papermill": {
     "duration": 0.01522,
     "end_time": "2022-02-04T05:43:53.182548",
     "exception": false,
     "start_time": "2022-02-04T05:43:53.167328",
     "status": "completed"
    },
    "tags": []
   },
   "source": [
    "<center>\n",
    "    This completes Set 1: JAX Introduction (Exercises 1-10) of <b>JaxTon</b>: <i>💯 JAX exercises</i>\n",
    "    <br>\n",
    "    You can find all the exercises and solutions on <a href=\"https://github.com/vopani/jaxton#exercises-\">GitHub</a>\n",
    "</center>"
   ]
  }
 ],
 "metadata": {
  "kernelspec": {
   "display_name": "Python 3",
   "language": "python",
   "name": "python3"
  },
  "language_info": {
   "codemirror_mode": {
    "name": "ipython",
    "version": 3
   },
   "file_extension": ".py",
   "mimetype": "text/x-python",
   "name": "python",
   "nbconvert_exporter": "python",
   "pygments_lexer": "ipython3",
   "version": "3.9.7"
  },
  "nbformat": 4,
  "nbformat_minor": 5
}