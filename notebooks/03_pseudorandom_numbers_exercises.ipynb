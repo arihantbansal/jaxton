{
  "metadata": {
    "kernelspec": {
      "language": "python",
      "display_name": "Python 3",
      "name": "python3"
    },
    "language_info": {
      "name": "python",
      "version": "3.7.12",
      "mimetype": "text/x-python",
      "codemirror_mode": {
        "name": "ipython",
        "version": 3
      },
      "pygments_lexer": "ipython3",
      "nbconvert_exporter": "python",
      "file_extension": ".py"
    },
    "colab": {
      "name": "03_pseudorandom_numbers_exercises.ipynb",
      "provenance": []
    }
  },
  "nbformat_minor": 0,
  "nbformat": 4,
  "cells": [
    {
      "cell_type": "markdown",
      "source": [
        "<center>\n",
        "    <h1>JaxTon</h1>\n",
        "    <i>💯 JAX exercises</i>\n",
        "    <br>\n",
        "    <br>\n",
        "    <a href='https://github.com/vopani/jaxton/blob/master/LICENSE'>\n",
        "        <img src='https://img.shields.io/badge/license-Apache%202.0-blue.svg?logo=apache'>\n",
        "    </a>\n",
        "    <a href='https://github.com/vopani/jaxton'>\n",
        "        <img src='https://img.shields.io/github/stars/vopani/jaxton?color=yellowgreen&logo=github'>\n",
        "    </a>\n",
        "    <a href='https://twitter.com/vopani'>\n",
        "        <img src='https://img.shields.io/twitter/follow/vopani'>\n",
        "    </a>\n",
        "</center>"
      ],
      "metadata": {
        "id": "7kfJNJEricBi"
      }
    },
    {
      "cell_type": "markdown",
      "source": [
        "<center>\n",
        "    This is Set 3: Pseudorandom Numbers (Exercises 21-30) of <b>JaxTon</b>: <i>💯 JAX exercises</i>\n",
        "    <br>\n",
        "    You can find all the exercises and solutions on <a href=\"https://github.com/vopani/jaxton#exercises-\">GitHub</a>\n",
        "</center>"
      ],
      "metadata": {
        "id": "rE5JA08gicBv"
      }
    },
    {
      "cell_type": "markdown",
      "source": [
        "**Prerequisites**\n",
        "\n",
        "* The configuration of jax should be set as shown in the code snippet below in order to use TPUs.\n",
        "* A sample array `sample_data` will be used for the exercises."
      ],
      "metadata": {
        "id": "oNlhFCaticBx"
      }
    },
    {
      "cell_type": "code",
      "source": [
        "!python3 -m pip install jax"
      ],
      "metadata": {
        "_kg_hide-input": true,
        "_kg_hide-output": true,
        "execution": {
          "iopub.status.busy": "2022-02-07T06:11:41.196161Z",
          "iopub.execute_input": "2022-02-07T06:11:41.196526Z",
          "iopub.status.idle": "2022-02-07T06:11:55.096828Z",
          "shell.execute_reply.started": "2022-02-07T06:11:41.196435Z",
          "shell.execute_reply": "2022-02-07T06:11:55.095242Z"
        },
        "trusted": true,
        "id": "XCcSL2Z_icBz",
        "outputId": "84777e70-71a4-4ad9-fea4-0cbe1f5f6a23",
        "colab": {
          "base_uri": "https://localhost:8080/"
        }
      },
      "execution_count": 1,
      "outputs": [
        {
          "output_type": "stream",
          "name": "stdout",
          "text": [
            "Requirement already satisfied: jax in /usr/local/lib/python3.7/dist-packages (0.2.25)\n",
            "Requirement already satisfied: typing-extensions in /usr/local/lib/python3.7/dist-packages (from jax) (3.10.0.2)\n",
            "Requirement already satisfied: opt-einsum in /usr/local/lib/python3.7/dist-packages (from jax) (3.3.0)\n",
            "Requirement already satisfied: numpy>=1.18 in /usr/local/lib/python3.7/dist-packages (from jax) (1.21.5)\n",
            "Requirement already satisfied: absl-py in /usr/local/lib/python3.7/dist-packages (from jax) (1.0.0)\n",
            "Requirement already satisfied: scipy>=1.2.1 in /usr/local/lib/python3.7/dist-packages (from jax) (1.4.1)\n",
            "Requirement already satisfied: six in /usr/local/lib/python3.7/dist-packages (from absl-py->jax) (1.15.0)\n"
          ]
        }
      ]
    },
    {
      "cell_type": "code",
      "source": [
        "## import packages\n",
        "import jax\n",
        "import jax.numpy as jnp\n",
        "import os\n",
        "import requests\n",
        "\n",
        "## setup JAX to use TPUs if available\n",
        "try:\n",
        "    url = 'http:' + os.environ['TPU_NAME'].split(':')[1] + ':8475/requestversion/tpu_driver_nightly'\n",
        "    resp = requests.post(url)\n",
        "    jax.config.FLAGS.jax_xla_backend = 'tpu_driver'\n",
        "    jax.config.FLAGS.jax_backend_target = os.environ['TPU_NAME']\n",
        "except:\n",
        "    pass\n",
        "\n",
        "jax.devices()"
      ],
      "metadata": {
        "_kg_hide-input": false,
        "execution": {
          "iopub.status.busy": "2022-02-07T06:11:55.099712Z",
          "iopub.execute_input": "2022-02-07T06:11:55.100136Z",
          "iopub.status.idle": "2022-02-07T06:11:58.118425Z",
          "shell.execute_reply.started": "2022-02-07T06:11:55.10008Z",
          "shell.execute_reply": "2022-02-07T06:11:58.117686Z"
        },
        "trusted": true,
        "id": "jsitm334icB2",
        "outputId": "5681eb51-7f41-4786-e1ff-3ee701478e50",
        "colab": {
          "base_uri": "https://localhost:8080/"
        }
      },
      "execution_count": 2,
      "outputs": [
        {
          "output_type": "stream",
          "name": "stderr",
          "text": [
            "WARNING:absl:No GPU/TPU found, falling back to CPU. (Set TF_CPP_MIN_LOG_LEVEL=0 and rerun for more info.)\n"
          ]
        },
        {
          "output_type": "execute_result",
          "data": {
            "text/plain": [
              "[<jaxlib.xla_extension.Device at 0x7f30e7fc2730>]"
            ]
          },
          "metadata": {},
          "execution_count": 2
        }
      ]
    },
    {
      "cell_type": "code",
      "source": [
        "## sample data\n",
        "sample_data = jnp.array([10, 1, 24, 20, 15, 14])\n",
        "sample_data"
      ],
      "metadata": {
        "execution": {
          "iopub.status.busy": "2022-02-07T06:11:58.119827Z",
          "iopub.execute_input": "2022-02-07T06:11:58.120227Z",
          "iopub.status.idle": "2022-02-07T06:11:58.138095Z",
          "shell.execute_reply.started": "2022-02-07T06:11:58.120178Z",
          "shell.execute_reply": "2022-02-07T06:11:58.13668Z"
        },
        "trusted": true,
        "id": "YcZcxqUbicB5",
        "outputId": "4924f04a-3d1f-42ec-ea1b-daf523f43cbd",
        "colab": {
          "base_uri": "https://localhost:8080/"
        }
      },
      "execution_count": 3,
      "outputs": [
        {
          "output_type": "execute_result",
          "data": {
            "text/plain": [
              "DeviceArray([10,  1, 24, 20, 15, 14], dtype=int32)"
            ]
          },
          "metadata": {},
          "execution_count": 3
        }
      ]
    },
    {
      "cell_type": "markdown",
      "source": [
        "**Exercise 21: Create a pseudorandom number generator key with seed=100 and assign it to `key`**"
      ],
      "metadata": {
        "id": "gUat92LEicB8"
      }
    },
    {
      "cell_type": "code",
      "source": [
        "key = jax.random.PRNGKey(100)\n",
        "key"
      ],
      "metadata": {
        "trusted": true,
        "id": "EdZfNuI0icB-",
        "outputId": "46bf5e10-25cc-408a-c4e4-67ac0d0e6194",
        "colab": {
          "base_uri": "https://localhost:8080/"
        }
      },
      "execution_count": 4,
      "outputs": [
        {
          "output_type": "execute_result",
          "data": {
            "text/plain": [
              "DeviceArray([  0, 100], dtype=uint32)"
            ]
          },
          "metadata": {},
          "execution_count": 4
        }
      ]
    },
    {
      "cell_type": "markdown",
      "source": [
        "**Exercise 22: Create a subkey from `key` and assign it to `subkey`**"
      ],
      "metadata": {
        "id": "JgGAad3MicCA"
      }
    },
    {
      "cell_type": "code",
      "source": [
        "key, subkey = jax.random.split(key)\n",
        "key, subkey"
      ],
      "metadata": {
        "trusted": true,
        "id": "wmLVKWG2icCB",
        "outputId": "45d36b86-238a-4dd4-8b6d-57b2e22f4979",
        "colab": {
          "base_uri": "https://localhost:8080/"
        }
      },
      "execution_count": 5,
      "outputs": [
        {
          "output_type": "execute_result",
          "data": {
            "text/plain": [
              "(array([749293245, 302738702], dtype=uint32),\n",
              " array([3011861781, 1867493174], dtype=uint32))"
            ]
          },
          "metadata": {},
          "execution_count": 5
        }
      ]
    },
    {
      "cell_type": "markdown",
      "source": [
        "**Exercise 23: Split `key` into seven subkeys `key_1`, `key_2`, `key_3`, `key_4`, `key_5`, `key_6` and `key_7`**"
      ],
      "metadata": {
        "id": "izDjQKSricCC"
      }
    },
    {
      "cell_type": "code",
      "source": [
        "key_1, key_2, key_3, key_4, key_5, key_6, key_7 = jax.random.split(key, num=7)\n",
        "key_1"
      ],
      "metadata": {
        "trusted": true,
        "id": "7X-Wsg8oicCD",
        "outputId": "1aeb5ea5-4fbf-4139-b02a-4a2fe3c6459e",
        "colab": {
          "base_uri": "https://localhost:8080/"
        }
      },
      "execution_count": 6,
      "outputs": [
        {
          "output_type": "execute_result",
          "data": {
            "text/plain": [
              "array([ 402730500, 1595431526], dtype=uint32)"
            ]
          },
          "metadata": {},
          "execution_count": 6
        }
      ]
    },
    {
      "cell_type": "markdown",
      "source": [
        "**Exercise 24: Create a random permutation of `sample_data` using `key_1` and assign it to `data_permutation`**"
      ],
      "metadata": {
        "id": "Ud7BK4tlicCD"
      }
    },
    {
      "cell_type": "code",
      "source": [
        "data_permutation = jax.random.permutation(key_1, sample_data)\n",
        "data_permutation"
      ],
      "metadata": {
        "trusted": true,
        "id": "_lrpKVomicCE",
        "outputId": "d2f100fd-2c2f-40c1-d0bf-6c088f1dc844",
        "colab": {
          "base_uri": "https://localhost:8080/"
        }
      },
      "execution_count": 7,
      "outputs": [
        {
          "output_type": "execute_result",
          "data": {
            "text/plain": [
              "DeviceArray([20, 14,  1, 10, 24, 15], dtype=int32)"
            ]
          },
          "metadata": {},
          "execution_count": 7
        }
      ]
    },
    {
      "cell_type": "markdown",
      "source": [
        "**Exercise 25: Choose a random element from `sample_data` using `key_2` and assign it to `random_selection`**"
      ],
      "metadata": {
        "id": "tA8zm6s4icCF"
      }
    },
    {
      "cell_type": "code",
      "source": [
        "random_selection = jax.random.choice(key_2, sample_data)\n",
        "random_selection"
      ],
      "metadata": {
        "trusted": true,
        "id": "Z1g3aGaeicCF",
        "outputId": "50b4c5e3-d01a-4689-d236-fa5c53083ad8",
        "colab": {
          "base_uri": "https://localhost:8080/"
        }
      },
      "execution_count": 8,
      "outputs": [
        {
          "output_type": "execute_result",
          "data": {
            "text/plain": [
              "DeviceArray(1, dtype=int32)"
            ]
          },
          "metadata": {},
          "execution_count": 8
        }
      ]
    },
    {
      "cell_type": "markdown",
      "source": [
        "**Exercise 26: Sample an integer between 10 and 24 using `key_3` and assign it to `sample_int`**"
      ],
      "metadata": {
        "id": "WuLsD9bUicCF"
      }
    },
    {
      "cell_type": "code",
      "source": [
        "sample_int = jax.random.randint(key_3, shape=(1,), minval=10, maxval=24)\n",
        "sample_int"
      ],
      "metadata": {
        "trusted": true,
        "id": "FL4HWXEYicCG",
        "outputId": "92fc44f7-bd43-49ac-983f-7f32bc5a48e6",
        "colab": {
          "base_uri": "https://localhost:8080/"
        }
      },
      "execution_count": 9,
      "outputs": [
        {
          "output_type": "execute_result",
          "data": {
            "text/plain": [
              "DeviceArray([14], dtype=int32)"
            ]
          },
          "metadata": {},
          "execution_count": 9
        }
      ]
    },
    {
      "cell_type": "markdown",
      "source": [
        "**Exercise 27: Sample two values from uniform distribution between 1 and 2 using `key_4` and assign it to `sample_uniform`**"
      ],
      "metadata": {
        "id": "lD-C8EJ6icCG"
      }
    },
    {
      "cell_type": "code",
      "source": [
        "sample_uniform = jax.random.uniform(key_4, shape=(2,), minval=1, maxval=2)\n",
        "sample_uniform"
      ],
      "metadata": {
        "trusted": true,
        "id": "gft1z7xxicCH",
        "outputId": "af62bc5e-0020-4c0c-c478-e308d0ee92d2",
        "colab": {
          "base_uri": "https://localhost:8080/"
        }
      },
      "execution_count": 11,
      "outputs": [
        {
          "output_type": "execute_result",
          "data": {
            "text/plain": [
              "DeviceArray([1.6274643, 1.1133162], dtype=float32)"
            ]
          },
          "metadata": {},
          "execution_count": 11
        }
      ]
    },
    {
      "cell_type": "markdown",
      "source": [
        "**Exercise 28: Sample three values from bernoulli distribution using `key_5` and assign it to `sample_bernoulli`**"
      ],
      "metadata": {
        "id": "UVQEpnoYicCI"
      }
    },
    {
      "cell_type": "code",
      "source": [
        "sample_bernoulli = jax.random.bernoulli(key_5, shape=(3,))\n",
        "sample_bernoulli"
      ],
      "metadata": {
        "trusted": true,
        "id": "vHuc2R5BicCI",
        "outputId": "f998ada5-b5ba-491f-f228-b53a12a65437",
        "colab": {
          "base_uri": "https://localhost:8080/"
        }
      },
      "execution_count": 12,
      "outputs": [
        {
          "output_type": "execute_result",
          "data": {
            "text/plain": [
              "DeviceArray([False,  True,  True], dtype=bool)"
            ]
          },
          "metadata": {},
          "execution_count": 12
        }
      ]
    },
    {
      "cell_type": "markdown",
      "source": [
        "**Exercise 29: Sample a 2x3 matrix from poisson distribution with λ=100 using `key_6` and assign it to `sample_poisson`**"
      ],
      "metadata": {
        "id": "aBBSXdYaicCI"
      }
    },
    {
      "cell_type": "code",
      "source": [
        "sample_poisson = jax.random.poisson(key_6, lam=100, shape=(2, 3))\n",
        "sample_poisson"
      ],
      "metadata": {
        "trusted": true,
        "id": "7n3M8R1QicCK",
        "outputId": "f751c153-ee11-4612-8fe8-024ec5b8f9ae",
        "colab": {
          "base_uri": "https://localhost:8080/"
        }
      },
      "execution_count": 13,
      "outputs": [
        {
          "output_type": "execute_result",
          "data": {
            "text/plain": [
              "DeviceArray([[ 88,  82, 110],\n",
              "             [ 89,  85,  98]], dtype=int32)"
            ]
          },
          "metadata": {},
          "execution_count": 13
        }
      ]
    },
    {
      "cell_type": "markdown",
      "source": [
        "**Exercise 30: Sample a 2x3x4 array from normal distribution using `key_7` and assign it to `sample_normal`**"
      ],
      "metadata": {
        "id": "TDm1ORe-icCK"
      }
    },
    {
      "cell_type": "code",
      "source": [
        "sample_normal = jax.random.normal(key_7, shape=(2, 3, 4))\n",
        "sample_normal"
      ],
      "metadata": {
        "trusted": true,
        "id": "pv-Qho3KicCL",
        "outputId": "42b02be7-59ed-4caa-efbe-be1508a1439e",
        "colab": {
          "base_uri": "https://localhost:8080/"
        }
      },
      "execution_count": 14,
      "outputs": [
        {
          "output_type": "execute_result",
          "data": {
            "text/plain": [
              "DeviceArray([[[ 0.25418097,  1.1962761 ,  1.3234267 ,  0.79710627],\n",
              "              [-1.8524727 , -0.28634226,  0.22515137, -0.6195278 ],\n",
              "              [ 2.401375  ,  0.07618259,  1.2277741 , -0.7562503 ]],\n",
              "\n",
              "             [[-0.45340508,  1.1029626 , -0.39860722, -1.1235173 ],\n",
              "              [-1.5689539 ,  0.46173108, -0.56071526, -1.750862  ],\n",
              "              [ 0.50200605, -1.497255  , -1.6995516 ,  0.55552477]]],            dtype=float32)"
            ]
          },
          "metadata": {},
          "execution_count": 14
        }
      ]
    },
    {
      "cell_type": "markdown",
      "source": [
        "<center>\n",
        "    This completes Set 3: Pseudorandom Numbers (Exercises 21-30) of <b>JaxTon</b>: <i>💯 JAX exercises</i>\n",
        "    <br>\n",
        "    You can find all the exercises and solutions on <a href=\"https://github.com/vopani/jaxton#exercises-\">GitHub</a>\n",
        "</center>"
      ],
      "metadata": {
        "id": "deFVF3HiicCL"
      }
    }
  ]
}